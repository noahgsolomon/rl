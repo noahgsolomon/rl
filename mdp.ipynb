{
 "cells": [
  {
   "cell_type": "code",
   "execution_count": 17,
   "metadata": {},
   "outputs": [
    {
     "data": {
      "text/plain": [
       "-1.0"
      ]
     },
     "execution_count": 17,
     "metadata": {},
     "output_type": "execute_result"
    }
   ],
   "source": [
    "# state-value function in terms of the policy and q function\n",
    "\n",
    "# below is s0, s1, s2, and s3\n",
    "# objective is to not fall off\n",
    "#(s0) #(s1)\n",
    "#(s2) #(s3) #(s4)        #(s5 (doomed))\n",
    "\n",
    "s = [0, 1, 2, 3, 4, 5]\n",
    "a = ['up', 'right', 'down', 'left']\n",
    "q = [\n",
    "        [-1, 1, 1, -1],\n",
    "        [-1, -1, 1, 1], \n",
    "        [1, 1, -1, -1],\n",
    "        [1, -1, -1, 1],\n",
    "        [-1, -1, -1, 1],\n",
    "        [-1, -1, -1, -1],\n",
    "    ]\n",
    "\n",
    "def policy_pi(state):\n",
    "    if state == 0:\n",
    "        return [0.1, 0.4, 0.4, 0.1]\n",
    "    elif state == 1:\n",
    "        return [0.1, 0.1, 0.4, 0.4]\n",
    "    elif state == 2:\n",
    "        return [0.4, 0.4, 0.1, 0.1]\n",
    "    elif state == 3:\n",
    "        return [0.4, 0.1, 0.1, 0.4]\n",
    "    elif state == 4:\n",
    "        return [0, 0, 0, 1]\n",
    "    elif state == 5:\n",
    "        return [0.25, 0.25, 0.25, 0.25]\n",
    "\n",
    "\n",
    "def v(state):\n",
    "    value = 0\n",
    "    for i, a_prob in enumerate(policy_pi(state)):\n",
    "        value += a_prob * q[state][i]\n",
    "    \n",
    "    return value\n",
    "\n",
    "\n",
    "v(5)"
   ]
  },
  {
   "cell_type": "code",
   "execution_count": 24,
   "metadata": {},
   "outputs": [
    {
     "data": {
      "text/plain": [
       "0.44"
      ]
     },
     "execution_count": 24,
     "metadata": {},
     "output_type": "execute_result"
    }
   ],
   "source": [
    "# q value function defined with value function and 4 parameter p function\n",
    "# q(s, a)\n",
    "# v(s)\n",
    "# p(s', r | s, a)\n",
    "\n",
    "# (s0) | # (s1)\n",
    "\n",
    "discount_factor=0.9\n",
    "\n",
    "s = [0, 1]\n",
    "a = ['left', 'right']\n",
    "r = [-1, -0.8, 0, 1]\n",
    "\n",
    "def p(state, action):\n",
    "    # probability of [(s0,r0),(s0,r1),(s0,r2),(s0,r3),(s1,r0),(s1,r1),(s1,r2),(s1,r3)]\n",
    "    if state == 0:\n",
    "        if action == 'left':\n",
    "            return [0, 0, 0, 0, 0.4, 0.4, 0.1, 0.1]\n",
    "        if action == 'right':\n",
    "             return [0, 0, 0, 0, 0.1, 0.1, 0.4, 0.4]\n",
    "    if state == 1:\n",
    "        if action == 'left':\n",
    "             return [0, 0, 0, 0, 0.1, 0.1, 0.4, 0.4]\n",
    "        if action == 'right':\n",
    "             return [0, 0, 0, 0, 0.4, 0.4, 0.1, 0.1]\n",
    "        \n",
    "def v(state):\n",
    "    return 0.22\n",
    "\n",
    "def q(state, action):\n",
    "    q_val = 0\n",
    "    for i, p_val in enumerate(p(state, action)):\n",
    "        q_val += p_val * (r[i%4] + v(s[i//4]))\n",
    "\n",
    "    return q_val\n",
    "\n",
    "q(s[1], a[0])"
   ]
  }
 ],
 "metadata": {
  "kernelspec": {
   "display_name": "Python 3",
   "language": "python",
   "name": "python3"
  },
  "language_info": {
   "codemirror_mode": {
    "name": "ipython",
    "version": 3
   },
   "file_extension": ".py",
   "mimetype": "text/x-python",
   "name": "python",
   "nbconvert_exporter": "python",
   "pygments_lexer": "ipython3",
   "version": "3.9.6"
  }
 },
 "nbformat": 4,
 "nbformat_minor": 2
}
