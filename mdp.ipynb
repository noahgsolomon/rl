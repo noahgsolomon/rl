{
 "cells": [
  {
   "cell_type": "code",
   "execution_count": 15,
   "metadata": {},
   "outputs": [
    {
     "data": {
      "text/plain": [
       "-1.0"
      ]
     },
     "execution_count": 15,
     "metadata": {},
     "output_type": "execute_result"
    }
   ],
   "source": [
    "# below is s0, s1, s2, and s3\n",
    "# objective is to not fall off\n",
    "#(s0) #(s1)\n",
    "#(s2) #(s3) #(s4)        #(s5 (doomed))\n",
    "\n",
    "# state-value function in terms of the policy and q function\n",
    "\n",
    "s = [0, 1, 2, 3, 4, 5]\n",
    "a = ['up', 'right', 'down', 'left']\n",
    "q = [\n",
    "        [-1, 1, 1, -1],\n",
    "        [-1, -1, 1, 1], \n",
    "        [1, 1, -1, -1],\n",
    "        [1, -1, -1, 1],\n",
    "        [-1, -1, -1, 1],\n",
    "        [-1, -1, -1, -1],\n",
    "    ]\n",
    "\n",
    "def policy_pi(state):\n",
    "    if state == 0:\n",
    "        return [0.1, 0.4, 0.4, 0.1]\n",
    "    elif state == 1:\n",
    "        return [0.1, 0.1, 0.4, 0.4]\n",
    "    elif state == 2:\n",
    "        return [0.4, 0.4, 0.1, 0.1]\n",
    "    elif state == 3:\n",
    "        return [0.4, 0.1, 0.1, 0.4]\n",
    "    elif state == 4:\n",
    "        return [0, 0, 0, 1]\n",
    "    elif state == 5:\n",
    "        return [0.25, 0.25, 0.25, 0.25]\n",
    "\n",
    "\n",
    "def v(state):\n",
    "    value = 0\n",
    "    for i, a_prob in enumerate(policy_pi(state)):\n",
    "        value += a_prob * q[state][i]\n",
    "    \n",
    "    return value\n",
    "\n",
    "\n",
    "v(5)"
   ]
  }
 ],
 "metadata": {
  "kernelspec": {
   "display_name": "Python 3",
   "language": "python",
   "name": "python3"
  },
  "language_info": {
   "codemirror_mode": {
    "name": "ipython",
    "version": 3
   },
   "file_extension": ".py",
   "mimetype": "text/x-python",
   "name": "python",
   "nbconvert_exporter": "python",
   "pygments_lexer": "ipython3",
   "version": "3.9.6"
  }
 },
 "nbformat": 4,
 "nbformat_minor": 2
}
